{
 "cells": [
  {
   "cell_type": "markdown",
   "metadata": {},
   "source": [
    "# Step 1: Data Preprocessing\n",
    "- Load all three datasets and merge together\n"
   ]
  },
  {
   "cell_type": "code",
   "execution_count": 32,
   "metadata": {},
   "outputs": [
    {
     "data": {
      "text/plain": [
       "bikeshop.name       model                category1  category2      frame     price\n",
       "Albuquerque Cycles  Bad Habit 1          Mountain   Trail          Aluminum  3200     5\n",
       "                    Bad Habit 2          Mountain   Trail          Aluminum  2660     2\n",
       "                    Beast of the East 1  Mountain   Trail          Aluminum  2770     3\n",
       "                    Beast of the East 2  Mountain   Trail          Aluminum  2130     3\n",
       "                    Beast of the East 3  Mountain   Trail          Aluminum  1620     1\n",
       "                                                                                     ..\n",
       "Wichita Speed       Trail 2              Mountain   Sport          Aluminum  1350     1\n",
       "                    Trigger Carbon 1     Mountain   Over Mountain  Carbon    8200     8\n",
       "                    Trigger Carbon 2     Mountain   Over Mountain  Carbon    5970     2\n",
       "                    Trigger Carbon 3     Mountain   Over Mountain  Carbon    3730     9\n",
       "                    Trigger Carbon 4     Mountain   Over Mountain  Carbon    3200     9\n",
       "Name: quantity, Length: 2513, dtype: int64"
      ]
     },
     "metadata": {},
     "output_type": "display_data"
    }
   ],
   "source": [
    "# Set up\n",
    "import pandas as pd\n",
    "import numpy as np\n",
    "# Load datasets and merge\n",
    "data = (pd.merge(pd.read_excel('orders.xlsx'), pd.read_excel('bikes.xlsx'), \n",
    "                 how = 'outer', left_on = 'product.id', right_on = 'bike.id')\n",
    "        .merge(pd.read_excel('bikeshops.xlsx'), how = 'outer', left_on = 'customer.id', right_on = 'bikeshop.id')\n",
    "        # Convert unit price to categorical (split at medium)\n",
    "       .assign(price_cat = lambda data: np.where(data.price >= np.median(data.price), 'high', 'low'))\n",
    "       .groupby(['bikeshop.name', 'model', 'category1', 'category2', 'frame', 'price'])\n",
    "       .agg(sum)['quantity'])\n",
    "\n",
    "\n",
    "# data = data.assign(price_cat = lambda data: np.where(data.price >= np.median(data.price), 'high', 'low'))\n",
    "\n",
    "# Spread by quantity purchased\n",
    "display(data)"
   ]
  },
  {
   "cell_type": "code",
   "execution_count": null,
   "metadata": {},
   "outputs": [],
   "source": []
  },
  {
   "cell_type": "code",
   "execution_count": null,
   "metadata": {},
   "outputs": [],
   "source": []
  }
 ],
 "metadata": {
  "kernelspec": {
   "display_name": "Python 3",
   "language": "python",
   "name": "python3"
  },
  "language_info": {
   "codemirror_mode": {
    "name": "ipython",
    "version": 3
   },
   "file_extension": ".py",
   "mimetype": "text/x-python",
   "name": "python",
   "nbconvert_exporter": "python",
   "pygments_lexer": "ipython3",
   "version": "3.7.6"
  }
 },
 "nbformat": 4,
 "nbformat_minor": 4
}
